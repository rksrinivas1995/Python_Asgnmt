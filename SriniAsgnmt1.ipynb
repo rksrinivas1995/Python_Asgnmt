{
  "nbformat": 4,
  "nbformat_minor": 0,
  "metadata": {
    "colab": {
      "name": "SriniAsgnmt1.ipynb",
      "provenance": [],
      "authorship_tag": "ABX9TyNjgbXyMeRMMOf/7GCQUUuJ",
      "include_colab_link": true
    },
    "kernelspec": {
      "name": "python3",
      "display_name": "Python 3"
    },
    "language_info": {
      "name": "python"
    }
  },
  "cells": [
    {
      "cell_type": "markdown",
      "metadata": {
        "id": "view-in-github",
        "colab_type": "text"
      },
      "source": [
        "<a href=\"https://colab.research.google.com/github/rksrinivas1995/Python_Asgnmt/blob/main/SriniAsgnmt1.ipynb\" target=\"_parent\"><img src=\"https://colab.research.google.com/assets/colab-badge.svg\" alt=\"Open In Colab\"/></a>"
      ]
    },
    {
      "cell_type": "code",
      "metadata": {
        "colab": {
          "base_uri": "https://localhost:8080/"
        },
        "id": "MozN45zcyJPI",
        "outputId": "0e739082-f013-4148-efcd-e6f93bd9a011"
      },
      "source": [
        "#Add Fn\n",
        "a = int(input(\"Enter 1st number\"))\n",
        "b = int(input(\"Enter 2nd number\"))\n",
        "sum0 = a+b\n",
        "print(\"The Sum is \", sum0)"
      ],
      "execution_count": 1,
      "outputs": [
        {
          "output_type": "stream",
          "text": [
            "Enter 1st number12\n",
            "Enter 2nd number13\n",
            "The Sum is  25\n"
          ],
          "name": "stdout"
        }
      ]
    },
    {
      "cell_type": "code",
      "metadata": {
        "colab": {
          "base_uri": "https://localhost:8080/"
        },
        "id": "0SYc78b0yWVq",
        "outputId": "267fa264-525c-4ba1-ca1d-3c96578401d5"
      },
      "source": [
        "#Sub Fn\n",
        "a = int(input(\"Enter 1st number\"))\n",
        "b = int(input(\"Enter 2nd number\"))\n",
        "sub0 = a-b\n",
        "print(\"The Subtraction of two numbers is \", sub0)"
      ],
      "execution_count": 8,
      "outputs": [
        {
          "output_type": "stream",
          "text": [
            "Enter 1st number10\n",
            "Enter 2nd number5\n",
            "The Subtraction of two numbers is  5\n"
          ],
          "name": "stdout"
        }
      ]
    },
    {
      "cell_type": "code",
      "metadata": {
        "colab": {
          "base_uri": "https://localhost:8080/"
        },
        "id": "SZ1v5lkMyu2S",
        "outputId": "105d2361-ee0b-4608-a1c1-980c316be043"
      },
      "source": [
        "#Multiply Fn\n",
        "a = int(input(\"Enter 1st number\"))\n",
        "b = int(input(\"Enter 2nd number\"))\n",
        "Multiply = a*b\n",
        "print(\"The Multiplication of two numbers is \", Multiply)"
      ],
      "execution_count": 9,
      "outputs": [
        {
          "output_type": "stream",
          "text": [
            "Enter 1st number3\n",
            "Enter 2nd number4\n",
            "The Multiplication of two numbers is  12\n"
          ],
          "name": "stdout"
        }
      ]
    },
    {
      "cell_type": "code",
      "metadata": {
        "colab": {
          "base_uri": "https://localhost:8080/"
        },
        "id": "lIdf1qsEzOrL",
        "outputId": "75650c64-fe13-49cb-f407-05aac38f22f7"
      },
      "source": [
        "#Divide Fn\n",
        "a = int(input(\"Enter 1st number\"))\n",
        "b = int(input(\"Enter 2nd number\"))\n",
        "Divide = a/b\n",
        "print(\"The Division of two numbers is \", Divide)"
      ],
      "execution_count": 10,
      "outputs": [
        {
          "output_type": "stream",
          "text": [
            "Enter 1st number10\n",
            "Enter 2nd number5\n",
            "The Division of two numbers is  2.0\n"
          ],
          "name": "stdout"
        }
      ]
    },
    {
      "cell_type": "code",
      "metadata": {
        "id": "NIJchMPX0qiA"
      },
      "source": [
        ""
      ],
      "execution_count": null,
      "outputs": []
    }
  ]
}